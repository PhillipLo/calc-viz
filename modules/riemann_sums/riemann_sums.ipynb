{
 "cells": [
  {
   "cell_type": "code",
   "execution_count": null,
   "metadata": {},
   "outputs": [],
   "source": [
    "%load_ext autoreload\n",
    "%autoreload 2\n",
    "\n",
    "from riemann_sums import *"
   ]
  },
  {
   "cell_type": "markdown",
   "metadata": {},
   "source": [
    "The purpose of this module is to help students visualize Riemann sums:\n",
    "$$R_{P_N}(f, a, b) = \\sum_{i = 1}^N f(x_i^*)\\Delta x.$$\n",
    "Here $P_N$ is a regular $N$-partition of the interval of integration $[a, b]$, $\\Delta x := (b - a) / N$, and $x_i^*$ is either the left endpoint, right endpoint, or midpoint of the ith interval. The interactive module features a slider that controls $N$ and plots the function as well as the rectangles making up the Riemann sum.\n",
    "\n",
    "First, we define our function `f`. Let's use $f(x) = \\sin(x)$ for our example."
   ]
  },
  {
   "cell_type": "code",
   "execution_count": null,
   "metadata": {},
   "outputs": [],
   "source": [
    "def f(x):\n",
    "  y = np.sin(x)\n",
    "  return y"
   ]
  },
  {
   "cell_type": "markdown",
   "metadata": {},
   "source": [
    "Next we specify the endpoints of the interval over which we wish to compute Riemann sums, as well as the type of Riemann sum we wish to compute (`\"left\"`, `\"right\"`, or `\"center\"`). Let's compute a left Riemann sum over $[-\\pi/2, \\pi]$."
   ]
  },
  {
   "cell_type": "code",
   "execution_count": null,
   "metadata": {},
   "outputs": [],
   "source": [
    "a = - np.pi / 2\n",
    "b = np.pi\n",
    "mode = \"left\""
   ]
  },
  {
   "cell_type": "markdown",
   "metadata": {},
   "source": [
    "Now just hit enter! Note that rectangles with negative signed area are in red, while rectangles with positive (or zero) signed area are in blue."
   ]
  },
  {
   "cell_type": "code",
   "execution_count": null,
   "metadata": {},
   "outputs": [],
   "source": [
    "make_figure(f, a, b, mode)"
   ]
  },
  {
   "cell_type": "markdown",
   "metadata": {},
   "source": [
    "If you want to save the above plot as an `.html` file, just add the argument `save_figure = True`. The default filename is `riemann_sums.html`. You can customize the filename by setting `filename = \"[yourfilename]\"`."
   ]
  },
  {
   "cell_type": "code",
   "execution_count": null,
   "metadata": {},
   "outputs": [],
   "source": [
    "make_figure(f, a, b, mode, save_figure = True, filename = \"riemann_sums.html\")"
   ]
  },
  {
   "cell_type": "code",
   "execution_count": null,
   "metadata": {},
   "outputs": [],
   "source": []
  }
 ],
 "metadata": {
  "kernelspec": {
   "display_name": "Python 3.9.13 ('calc-viz')",
   "language": "python",
   "name": "python3"
  },
  "language_info": {
   "codemirror_mode": {
    "name": "ipython",
    "version": 3
   },
   "file_extension": ".py",
   "mimetype": "text/x-python",
   "name": "python",
   "nbconvert_exporter": "python",
   "pygments_lexer": "ipython3",
   "version": "3.9.13"
  },
  "orig_nbformat": 4,
  "vscode": {
   "interpreter": {
    "hash": "d1354e872e76d0e9564f2eff8ca895aa51bd3d38e28a9e7ce88ee1912a98942f"
   }
  }
 },
 "nbformat": 4,
 "nbformat_minor": 2
}
