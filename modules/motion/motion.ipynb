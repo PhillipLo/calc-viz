{
 "cells": [
  {
   "cell_type": "code",
   "execution_count": 11,
   "metadata": {},
   "outputs": [
    {
     "name": "stdout",
     "output_type": "stream",
     "text": [
      "The autoreload extension is already loaded. To reload it, use:\n",
      "  %reload_ext autoreload\n"
     ]
    }
   ],
   "source": [
    "%load_ext autoreload\n",
    "%autoreload 2\n",
    "from motion import *"
   ]
  },
  {
   "cell_type": "code",
   "execution_count": 12,
   "metadata": {},
   "outputs": [],
   "source": [
    "a = 1\n",
    "b = 3\n",
    "c = -2\n",
    "d = 1\n",
    "e = -2\n",
    "\n",
    "def p(t):\n",
    "  #return np.sin(4 * t)\n",
    "  return a + b * t + c * t **2 + d * t**3 + e * t**4"
   ]
  },
  {
   "cell_type": "code",
   "execution_count": 13,
   "metadata": {},
   "outputs": [],
   "source": [
    "num_ts = 10000\n",
    "t_min = 0\n",
    "t_max = 10\n",
    "ts, psns, vels, accs = compute_psn_vel_acc(p, t_min, t_max, num_ts = num_ts)"
   ]
  },
  {
   "cell_type": "code",
   "execution_count": 14,
   "metadata": {},
   "outputs": [],
   "source": [
    "make_figure(p, t_min, t_max)"
   ]
  },
  {
   "cell_type": "code",
   "execution_count": 5,
   "metadata": {},
   "outputs": [],
   "source": [
    "fig=go.Figure().set_subplots(4,1, row_heights = [0.1, 0.3, 0.3, 0.3], vertical_spacing = 0.15,\n",
    "                             specs=[[{\"type\": \"scatter\"}], [{\"type\":\"scatter\"}], [{\"type\":\"scatter\"}], [{\"type\":\"scatter\"}]],\n",
    "                             subplot_titles =  [\"foo\", \"bar\", \"baz\", \"fat\"])\n",
    "\n",
    "fig.update_layout(    \n",
    "    {    \n",
    "        'xaxis1':{'range': [np.min(psns), np.max(psns)], \"title\":\"position\"},\n",
    "        'yaxis1':{'range': [-1, 1], \"visible\":False, \"zeroline\":True},\n",
    "        'xaxis2':{'range': [np.min(ts) - 1, np.max(ts) + 1]},\n",
    "        'yaxis2':{'range': [np.min(psns) - 1, np.max(psns) + 1]},\n",
    "        'xaxis3':{'range': [np.min(ts) - 1, np.max(ts) + 1]},\n",
    "        'yaxis3':{'range': [np.min(vels) - 1, np.max(vels) + 1]},\n",
    "        'xaxis4':{'range': [np.min(ts) - 1, np.max(ts) + 1]},\n",
    "        'yaxis4':{'range': [np.min(accs) - 1, np.max(accs) + 1]},\n",
    "    }\n",
    ")\n",
    "\n",
    "# fig.add_trace(go.Scatter(x= psns, y= np.zeros_like(psns), mode = \"markers\"), 1, 1)\n",
    "# fig.add_trace(go.Scatter(x = ts, y = psns, mode = \"lines\"), 2, 1)\n",
    "# fig.add_trace(go.Scatter(x = ts, y = vels, mode = \"lines\"), 3, 1)\n",
    "# fig.add_trace(go.Scatter(x = ts, y = accs, mode = \"lines\"), 4, 1)\n",
    "\n",
    "fig.add_trace(go.Scatter(x = [psns[0]], y= [0], mode = \"markers\", hoverinfo = \"skip\"), 1, 1)\n",
    "fig.add_trace(go.Scatter(x = ts[0:1], y = psns[0:1], mode = \"lines\", hoverinfo = \"skip\"), 2, 1)\n",
    "fig.add_trace(go.Scatter(x = ts[0:1], y = vels[0:1], mode = \"lines\", hoverinfo = \"skip\"), 3, 1)\n",
    "fig.add_trace(go.Scatter(x = ts[0:1], y = accs[0:1], mode = \"lines\", hoverinfo = \"skip\"), 4, 1)\n",
    "\n",
    "frames = [ \n",
    "  go.Frame(\n",
    "    data = [\n",
    "      go.Scatter(x = [psns[i]], y = [0], mode = \"markers\", hoverinfo = \"skip\"),\n",
    "      go.Scatter(x = ts[0:i+1], y = psns[0:i+1], mode = \"lines\", hoverinfo = \"skip\"),\n",
    "      go.Scatter(x = ts[0:i+1], y = vels[0:i+1], mode = \"lines\", hoverinfo = \"skip\"),\n",
    "      go.Scatter(x = ts[0:i+1], y = accs[0:i+1], mode = \"lines\", hoverinfo = \"skip\")\n",
    "    ],\n",
    "    name = f\"t = {ts[i]}\",\n",
    "    traces = [0, 1, 2, 3]) for i in range(1, num_ts)\n",
    "]\n",
    "\n",
    "fig.update(frames = frames)\n",
    "\n",
    "def frame_args(duration):\n",
    "    return {\n",
    "            \"frame\": {\"duration\": duration},\n",
    "            \"mode\": \"immediate\",\n",
    "            \"fromcurrent\": True,\n",
    "            #\"transition\": {\"duration\": duration, \"easing\": \"linear\"},\n",
    "        }\n",
    "\n",
    "fr_duration=1  # customize this frame duration according to your data!!!!!\n",
    "sliders = [\n",
    "            {\n",
    "                \"pad\": {\"b\": 10, \"t\": 50},\n",
    "                \"len\": 0.9,\n",
    "                \"x\": 0.1,\n",
    "                \"y\": 0,\n",
    "                \"steps\": [\n",
    "                    {\n",
    "                        \"args\": [[f.name], frame_args(fr_duration)],\n",
    "                        \"label\": f\"fr{k+1}\",\n",
    "                        \"method\": \"animate\",\n",
    "                    }\n",
    "                    for k, f in enumerate(fig.frames)\n",
    "                ],\n",
    "            }\n",
    "        ]\n",
    "\n",
    "\n",
    "fig.update_layout(sliders=sliders,\n",
    "                  updatemenus = [\n",
    "                        {\n",
    "                        \"buttons\": [\n",
    "                            {\n",
    "                             \"args\": [None, frame_args(fr_duration)],\n",
    "                             \"label\": \"&#9654;\", # play symbol\n",
    "                             \"method\": \"animate\",\n",
    "                            },\n",
    "                            {\n",
    "                             \"args\": [[None], frame_args(fr_duration)],\n",
    "                             \"label\": \"&#9724;\", # pause symbol\n",
    "                             \"method\": \"animate\",\n",
    "                            }],\n",
    "                        \"direction\": \"left\",\n",
    "                        \"pad\": {\"r\": 10, \"t\": 70},\n",
    "                        \"type\": \"buttons\",\n",
    "                        \"x\": 0.1,\n",
    "                        \"y\": 0,\n",
    "                        }])\n",
    "\n",
    "fig.write_html(\"anim.html\")"
   ]
  },
  {
   "cell_type": "code",
   "execution_count": null,
   "metadata": {},
   "outputs": [],
   "source": []
  },
  {
   "cell_type": "code",
   "execution_count": null,
   "metadata": {},
   "outputs": [],
   "source": []
  },
  {
   "cell_type": "code",
   "execution_count": null,
   "metadata": {},
   "outputs": [],
   "source": []
  }
 ],
 "metadata": {
  "kernelspec": {
   "display_name": "Python 3.9.13 ('calc-viz')",
   "language": "python",
   "name": "python3"
  },
  "language_info": {
   "codemirror_mode": {
    "name": "ipython",
    "version": 3
   },
   "file_extension": ".py",
   "mimetype": "text/x-python",
   "name": "python",
   "nbconvert_exporter": "python",
   "pygments_lexer": "ipython3",
   "version": "3.9.13"
  },
  "orig_nbformat": 4,
  "vscode": {
   "interpreter": {
    "hash": "d1354e872e76d0e9564f2eff8ca895aa51bd3d38e28a9e7ce88ee1912a98942f"
   }
  }
 },
 "nbformat": 4,
 "nbformat_minor": 2
}
