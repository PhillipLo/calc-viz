{
 "cells": [
  {
   "cell_type": "code",
   "execution_count": null,
   "metadata": {},
   "outputs": [],
   "source": [
    "%load_ext autoreload\n",
    "%autoreload 2\n",
    "\n",
    "from derivative_defn import *"
   ]
  },
  {
   "cell_type": "markdown",
   "metadata": {},
   "source": [
    "The purpose of this module is to help students visualize the limit definition of the derivative:\n",
    "$$f'(a) = \\lim_{h\\to 0}\\frac{f(a + h) - f(a)}{h}.$$\n",
    "We do this by plotting the relevant secant line for various $h$, controlled by a slider.\n",
    "\n",
    "First, we need to define our function `f`. Let's use $f(x) = 3\\sin(x)\\exp(-x^3)$ for our example."
   ]
  },
  {
   "cell_type": "code",
   "execution_count": null,
   "metadata": {},
   "outputs": [],
   "source": [
    "def f(x):\n",
    "  '''\n",
    "  Define your function here.\n",
    "  '''\n",
    "  y = 3 * np.sin(x) * np.exp(-x**2)\n",
    "  return y"
   ]
  },
  {
   "cell_type": "markdown",
   "metadata": {},
   "source": [
    "Next, we have some user-defined parameters:\n",
    "* `a`: the point at which we want to approximate the derivative with secant lines.\n",
    "* `x_min`, `x_max`: we will plot all functions over the domain $[x_{\\text{min}}, x_{\\text{max}}]$. Make sure $a\\in [x_{\\text{min}}, x_{\\text{max}}]$."
   ]
  },
  {
   "cell_type": "code",
   "execution_count": null,
   "metadata": {},
   "outputs": [],
   "source": [
    "a = 1\n",
    "x_min = -2\n",
    "x_max = 2"
   ]
  },
  {
   "cell_type": "markdown",
   "metadata": {},
   "source": [
    "Now just hit enter!"
   ]
  },
  {
   "cell_type": "code",
   "execution_count": null,
   "metadata": {},
   "outputs": [],
   "source": [
    "make_figure(f, a, x_min, x_max)"
   ]
  },
  {
   "cell_type": "markdown",
   "metadata": {},
   "source": [
    "If you want to save the above plot as an `.html` file, just add the argument `save_figure = True`. The default filename is `derivative_defn.html`. You can customize the filename by setting `filename = \"[yourfilename]\"`."
   ]
  },
  {
   "cell_type": "code",
   "execution_count": null,
   "metadata": {},
   "outputs": [],
   "source": [
    "make_figure(f, a, x_min, x_max, save_figure = True, filename = \"derivative_defn_demo.html\")"
   ]
  }
 ],
 "metadata": {
  "kernelspec": {
   "display_name": "Python 3.9.13 ('calc-viz')",
   "language": "python",
   "name": "python3"
  },
  "language_info": {
   "codemirror_mode": {
    "name": "ipython",
    "version": 3
   },
   "file_extension": ".py",
   "mimetype": "text/x-python",
   "name": "python",
   "nbconvert_exporter": "python",
   "pygments_lexer": "ipython3",
   "version": "3.9.13"
  },
  "orig_nbformat": 4,
  "vscode": {
   "interpreter": {
    "hash": "d1354e872e76d0e9564f2eff8ca895aa51bd3d38e28a9e7ce88ee1912a98942f"
   }
  }
 },
 "nbformat": 4,
 "nbformat_minor": 2
}
